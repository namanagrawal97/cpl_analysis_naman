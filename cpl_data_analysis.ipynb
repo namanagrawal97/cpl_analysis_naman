{
 "cells": [
  {
   "cell_type": "code",
   "execution_count": 1,
   "metadata": {},
   "outputs": [
    {
     "name": "stdout",
     "output_type": "stream",
     "text": [
      "Requirement already satisfied: spike2py in c:\\users\\sinha\\anaconda3\\envs\\cpl\\lib\\site-packages (0.2.7)\n",
      "Requirement already satisfied: numpy in c:\\users\\sinha\\anaconda3\\envs\\cpl\\lib\\site-packages (from spike2py) (1.23.5)\n",
      "Requirement already satisfied: scipy in c:\\users\\sinha\\anaconda3\\envs\\cpl\\lib\\site-packages (from spike2py) (1.13.1)\n",
      "Requirement already satisfied: matplotlib in c:\\users\\sinha\\anaconda3\\envs\\cpl\\lib\\site-packages (from spike2py) (3.8.4)\n",
      "Requirement already satisfied: contourpy>=1.0.1 in c:\\users\\sinha\\anaconda3\\envs\\cpl\\lib\\site-packages (from matplotlib->spike2py) (1.2.0)\n",
      "Requirement already satisfied: cycler>=0.10 in c:\\users\\sinha\\anaconda3\\envs\\cpl\\lib\\site-packages (from matplotlib->spike2py) (0.11.0)\n",
      "Requirement already satisfied: fonttools>=4.22.0 in c:\\users\\sinha\\anaconda3\\envs\\cpl\\lib\\site-packages (from matplotlib->spike2py) (4.51.0)\n",
      "Requirement already satisfied: kiwisolver>=1.3.1 in c:\\users\\sinha\\anaconda3\\envs\\cpl\\lib\\site-packages (from matplotlib->spike2py) (1.4.4)\n",
      "Requirement already satisfied: packaging>=20.0 in c:\\users\\sinha\\anaconda3\\envs\\cpl\\lib\\site-packages (from matplotlib->spike2py) (23.2)\n",
      "Requirement already satisfied: pillow>=8 in c:\\users\\sinha\\anaconda3\\envs\\cpl\\lib\\site-packages (from matplotlib->spike2py) (10.3.0)\n",
      "Requirement already satisfied: pyparsing>=2.3.1 in c:\\users\\sinha\\anaconda3\\envs\\cpl\\lib\\site-packages (from matplotlib->spike2py) (3.0.9)\n",
      "Requirement already satisfied: python-dateutil>=2.7 in c:\\users\\sinha\\anaconda3\\envs\\cpl\\lib\\site-packages (from matplotlib->spike2py) (2.9.0.post0)\n",
      "Requirement already satisfied: importlib-resources>=3.2.0 in c:\\users\\sinha\\anaconda3\\envs\\cpl\\lib\\site-packages (from matplotlib->spike2py) (6.1.1)\n",
      "Requirement already satisfied: zipp>=3.1.0 in c:\\users\\sinha\\anaconda3\\envs\\cpl\\lib\\site-packages (from importlib-resources>=3.2.0->matplotlib->spike2py) (3.17.0)\n",
      "Requirement already satisfied: six>=1.5 in c:\\users\\sinha\\anaconda3\\envs\\cpl\\lib\\site-packages (from python-dateutil>=2.7->matplotlib->spike2py) (1.16.0)\n",
      "Requirement already satisfied: h5py in c:\\users\\sinha\\anaconda3\\envs\\cpl\\lib\\site-packages (3.11.0)\n",
      "Requirement already satisfied: numpy>=1.17.3 in c:\\users\\sinha\\anaconda3\\envs\\cpl\\lib\\site-packages (from h5py) (1.23.5)\n"
     ]
    }
   ],
   "source": [
    "!pip install spike2py\n",
    "!pip install h5py"
   ]
  },
  {
   "cell_type": "markdown",
   "metadata": {},
   "source": [
    "1. Loading the data"
   ]
  },
  {
   "cell_type": "code",
   "execution_count": 3,
   "metadata": {},
   "outputs": [
    {
     "name": "stdout",
     "output_type": "stream",
     "text": [
      "['V20230623_dk1_BW_context_day1_Ch1', 'V20230623_dk1_BW_context_day1_Ch2', 'V20230623_dk1_BW_context_day1_Ch29', 'V20230623_dk1_BW_context_day1_Ch3', 'V20230623_dk1_BW_context_day1_Ch31', 'V20230623_dk1_BW_context_day1_Ch4', 'V20230623_dk1_BW_context_day1_Ch5', 'V20230623_dk1_BW_context_day1_Ch6', 'V20230623_dk1_BW_context_day1_Ch8', 'file']\n"
     ]
    }
   ],
   "source": [
    "import h5py\n",
    "\n",
    "f=h5py.File(\"C:\\\\Users\\\\sinha\\\\Dropbox\\\\CPLab\\\\cpl data\\\\20230623_dk1_BW_context_day1.mat\")\n",
    "channels = list(f.keys())  # Example: Getting all dataset names if that's what you intended\n",
    "print(channels)"
   ]
  },
  {
   "cell_type": "code",
   "execution_count": 4,
   "metadata": {},
   "outputs": [
    {
     "name": "stdout",
     "output_type": "stream",
     "text": [
      "<KeysViewHDF5 ['comment', 'interval', 'length', 'offset', 'scale', 'start', 'times', 'title', 'units', 'values']>\n"
     ]
    }
   ],
   "source": [
    "channel1 = f[channels[3]]\n",
    "print(channel1.keys())"
   ]
  },
  {
   "cell_type": "code",
   "execution_count": 8,
   "metadata": {},
   "outputs": [
    {
     "name": "stdout",
     "output_type": "stream",
     "text": [
      "comment 0\n",
      "interval [0.0005]\n",
      "length [2695982.]\n",
      "offset [0.]\n",
      "scale [0.00015259]\n",
      "start [5.e-05]\n",
      "times [5.00000000e-05 5.50000000e-04 1.05000000e-03 ... 1.34798955e+03\n",
      " 1.34799005e+03 1.34799055e+03]\n",
      "title [76]\n",
      "units [86]\n",
      "values [-0.04989624 -0.06500244 -0.08148193 ... -0.07293701 -0.05187988\n",
      " -0.02639771]\n",
      "2695982 2695982\n"
     ]
    }
   ],
   "source": [
    "for channel_key in channel1.keys():\n",
    "    print(channel_key, channel1[channel_key][0])\n",
    "\n",
    "channel1_times=list(channel1['times'])\n",
    "channel1_data = list(channel1['values'])\n",
    "\n",
    "print(len(channel1_times[0]), len(channel1_data[0]))"
   ]
  },
  {
   "cell_type": "markdown",
   "metadata": {},
   "source": [
    "### 2. Now, according to Matt, I first need to use the butterworth lowpass filter"
   ]
  },
  {
   "cell_type": "code",
   "execution_count": 7,
   "metadata": {},
   "outputs": [],
   "source": [
    "from scipy.signal import butter, filtfilt, firls, iirnotch, cheby2\n",
    "from scipy import signal\n",
    "\n",
    "def butter_lowpass(cutoff, fs, order=4):\n",
    "    nyq = 0.5 * fs\n",
    "    normal_cutoff = cutoff / nyq\n",
    "    b, a = butter(order, normal_cutoff, btype='low', analog=False)\n",
    "    return b, a\n",
    "\n",
    "\n",
    "def butter_lowpass_filter(data, cutoff, fs, order=4, axis=-1):\n",
    "    b, a = butter_lowpass(cutoff, fs, order=order)\n",
    "    y = filtfilt(b, a, data, padlen=0, axis=axis)\n",
    "    return y"
   ]
  },
  {
   "cell_type": "code",
   "execution_count": 13,
   "metadata": {},
   "outputs": [
    {
     "name": "stdout",
     "output_type": "stream",
     "text": [
      "[-0.04989624 -0.06500244 -0.08148193 ... -0.07293701 -0.05187988\n",
      " -0.02639771]\n"
     ]
    }
   ],
   "source": [
    "print(channel1_data[0])"
   ]
  },
  {
   "cell_type": "code",
   "execution_count": 15,
   "metadata": {},
   "outputs": [
    {
     "ename": "MemoryError",
     "evalue": "bad allocation",
     "output_type": "error",
     "traceback": [
      "\u001b[1;31m---------------------------------------------------------------------------\u001b[0m",
      "\u001b[1;31mMemoryError\u001b[0m                               Traceback (most recent call last)",
      "Cell \u001b[1;32mIn[15], line 6\u001b[0m\n\u001b[0;32m      3\u001b[0m rfs\u001b[38;5;241m=\u001b[39m\u001b[38;5;241m1000\u001b[39m\n\u001b[0;32m      4\u001b[0m num_samples \u001b[38;5;241m=\u001b[39m \u001b[38;5;28mint\u001b[39m(sig_length \u001b[38;5;241m*\u001b[39m rfs)\n\u001b[1;32m----> 6\u001b[0m filtered_data_resampled \u001b[38;5;241m=\u001b[39m \u001b[43msignal\u001b[49m\u001b[38;5;241;43m.\u001b[39;49m\u001b[43mresample\u001b[49m\u001b[43m(\u001b[49m\u001b[43mfiltered_data\u001b[49m\u001b[43m,\u001b[49m\u001b[43m \u001b[49m\u001b[43mnum_samples\u001b[49m\u001b[43m)\u001b[49m\n",
      "File \u001b[1;32mc:\\Users\\sinha\\anaconda3\\envs\\cpl\\lib\\site-packages\\scipy\\signal\\_signaltools.py:3223\u001b[0m, in \u001b[0;36mresample\u001b[1;34m(x, num, t, axis, window, domain)\u001b[0m\n\u001b[0;32m   3221\u001b[0m \u001b[38;5;66;03m# Inverse transform\u001b[39;00m\n\u001b[0;32m   3222\u001b[0m \u001b[38;5;28;01mif\u001b[39;00m real_input:\n\u001b[1;32m-> 3223\u001b[0m     y \u001b[38;5;241m=\u001b[39m \u001b[43msp_fft\u001b[49m\u001b[38;5;241;43m.\u001b[39;49m\u001b[43mirfft\u001b[49m\u001b[43m(\u001b[49m\u001b[43mY\u001b[49m\u001b[43m,\u001b[49m\u001b[43m \u001b[49m\u001b[43mnum\u001b[49m\u001b[43m,\u001b[49m\u001b[43m \u001b[49m\u001b[43maxis\u001b[49m\u001b[38;5;241;43m=\u001b[39;49m\u001b[43maxis\u001b[49m\u001b[43m)\u001b[49m\n\u001b[0;32m   3224\u001b[0m \u001b[38;5;28;01melse\u001b[39;00m:\n\u001b[0;32m   3225\u001b[0m     y \u001b[38;5;241m=\u001b[39m sp_fft\u001b[38;5;241m.\u001b[39mifft(Y, axis\u001b[38;5;241m=\u001b[39maxis, overwrite_x\u001b[38;5;241m=\u001b[39m\u001b[38;5;28;01mTrue\u001b[39;00m)\n",
      "File \u001b[1;32mc:\\Users\\sinha\\anaconda3\\envs\\cpl\\lib\\site-packages\\scipy\\fft\\_backend.py:28\u001b[0m, in \u001b[0;36m_ScipyBackend.__ua_function__\u001b[1;34m(method, args, kwargs)\u001b[0m\n\u001b[0;32m     26\u001b[0m \u001b[38;5;28;01mif\u001b[39;00m fn \u001b[38;5;129;01mis\u001b[39;00m \u001b[38;5;28;01mNone\u001b[39;00m:\n\u001b[0;32m     27\u001b[0m     \u001b[38;5;28;01mreturn\u001b[39;00m \u001b[38;5;28mNotImplemented\u001b[39m\n\u001b[1;32m---> 28\u001b[0m \u001b[38;5;28;01mreturn\u001b[39;00m fn(\u001b[38;5;241m*\u001b[39margs, \u001b[38;5;241m*\u001b[39m\u001b[38;5;241m*\u001b[39mkwargs)\n",
      "File \u001b[1;32mc:\\Users\\sinha\\anaconda3\\envs\\cpl\\lib\\site-packages\\scipy\\fft\\_basic_backend.py:78\u001b[0m, in \u001b[0;36mirfft\u001b[1;34m(x, n, axis, norm, overwrite_x, workers, plan)\u001b[0m\n\u001b[0;32m     76\u001b[0m \u001b[38;5;28;01mdef\u001b[39;00m \u001b[38;5;21mirfft\u001b[39m(x, n\u001b[38;5;241m=\u001b[39m\u001b[38;5;28;01mNone\u001b[39;00m, axis\u001b[38;5;241m=\u001b[39m\u001b[38;5;241m-\u001b[39m\u001b[38;5;241m1\u001b[39m, norm\u001b[38;5;241m=\u001b[39m\u001b[38;5;28;01mNone\u001b[39;00m,\n\u001b[0;32m     77\u001b[0m           overwrite_x\u001b[38;5;241m=\u001b[39m\u001b[38;5;28;01mFalse\u001b[39;00m, workers\u001b[38;5;241m=\u001b[39m\u001b[38;5;28;01mNone\u001b[39;00m, \u001b[38;5;241m*\u001b[39m, plan\u001b[38;5;241m=\u001b[39m\u001b[38;5;28;01mNone\u001b[39;00m):\n\u001b[1;32m---> 78\u001b[0m     \u001b[38;5;28;01mreturn\u001b[39;00m \u001b[43m_execute_1D\u001b[49m\u001b[43m(\u001b[49m\u001b[38;5;124;43m'\u001b[39;49m\u001b[38;5;124;43mirfft\u001b[39;49m\u001b[38;5;124;43m'\u001b[39;49m\u001b[43m,\u001b[49m\u001b[43m \u001b[49m\u001b[43m_pocketfft\u001b[49m\u001b[38;5;241;43m.\u001b[39;49m\u001b[43mirfft\u001b[49m\u001b[43m,\u001b[49m\u001b[43m \u001b[49m\u001b[43mx\u001b[49m\u001b[43m,\u001b[49m\u001b[43m \u001b[49m\u001b[43mn\u001b[49m\u001b[38;5;241;43m=\u001b[39;49m\u001b[43mn\u001b[49m\u001b[43m,\u001b[49m\u001b[43m \u001b[49m\u001b[43maxis\u001b[49m\u001b[38;5;241;43m=\u001b[39;49m\u001b[43maxis\u001b[49m\u001b[43m,\u001b[49m\u001b[43m \u001b[49m\u001b[43mnorm\u001b[49m\u001b[38;5;241;43m=\u001b[39;49m\u001b[43mnorm\u001b[49m\u001b[43m,\u001b[49m\n\u001b[0;32m     79\u001b[0m \u001b[43m                       \u001b[49m\u001b[43moverwrite_x\u001b[49m\u001b[38;5;241;43m=\u001b[39;49m\u001b[43moverwrite_x\u001b[49m\u001b[43m,\u001b[49m\u001b[43m \u001b[49m\u001b[43mworkers\u001b[49m\u001b[38;5;241;43m=\u001b[39;49m\u001b[43mworkers\u001b[49m\u001b[43m,\u001b[49m\u001b[43m \u001b[49m\u001b[43mplan\u001b[49m\u001b[38;5;241;43m=\u001b[39;49m\u001b[43mplan\u001b[49m\u001b[43m)\u001b[49m\n",
      "File \u001b[1;32mc:\\Users\\sinha\\anaconda3\\envs\\cpl\\lib\\site-packages\\scipy\\fft\\_basic_backend.py:28\u001b[0m, in \u001b[0;36m_execute_1D\u001b[1;34m(func_str, pocketfft_func, x, n, axis, norm, overwrite_x, workers, plan)\u001b[0m\n\u001b[0;32m     25\u001b[0m xp \u001b[38;5;241m=\u001b[39m array_namespace(x)\n\u001b[0;32m     27\u001b[0m \u001b[38;5;28;01mif\u001b[39;00m is_numpy(xp):\n\u001b[1;32m---> 28\u001b[0m     \u001b[38;5;28;01mreturn\u001b[39;00m \u001b[43mpocketfft_func\u001b[49m\u001b[43m(\u001b[49m\u001b[43mx\u001b[49m\u001b[43m,\u001b[49m\u001b[43m \u001b[49m\u001b[43mn\u001b[49m\u001b[38;5;241;43m=\u001b[39;49m\u001b[43mn\u001b[49m\u001b[43m,\u001b[49m\u001b[43m \u001b[49m\u001b[43maxis\u001b[49m\u001b[38;5;241;43m=\u001b[39;49m\u001b[43maxis\u001b[49m\u001b[43m,\u001b[49m\u001b[43m \u001b[49m\u001b[43mnorm\u001b[49m\u001b[38;5;241;43m=\u001b[39;49m\u001b[43mnorm\u001b[49m\u001b[43m,\u001b[49m\n\u001b[0;32m     29\u001b[0m \u001b[43m                          \u001b[49m\u001b[43moverwrite_x\u001b[49m\u001b[38;5;241;43m=\u001b[39;49m\u001b[43moverwrite_x\u001b[49m\u001b[43m,\u001b[49m\u001b[43m \u001b[49m\u001b[43mworkers\u001b[49m\u001b[38;5;241;43m=\u001b[39;49m\u001b[43mworkers\u001b[49m\u001b[43m,\u001b[49m\u001b[43m \u001b[49m\u001b[43mplan\u001b[49m\u001b[38;5;241;43m=\u001b[39;49m\u001b[43mplan\u001b[49m\u001b[43m)\u001b[49m\n\u001b[0;32m     31\u001b[0m norm \u001b[38;5;241m=\u001b[39m _validate_fft_args(workers, plan, norm)\n\u001b[0;32m     32\u001b[0m \u001b[38;5;28;01mif\u001b[39;00m \u001b[38;5;28mhasattr\u001b[39m(xp, \u001b[38;5;124m'\u001b[39m\u001b[38;5;124mfft\u001b[39m\u001b[38;5;124m'\u001b[39m):\n",
      "File \u001b[1;32mc:\\Users\\sinha\\anaconda3\\envs\\cpl\\lib\\site-packages\\scipy\\fft\\_pocketfft\\basic.py:95\u001b[0m, in \u001b[0;36mc2r\u001b[1;34m(forward, x, n, axis, norm, overwrite_x, workers, plan)\u001b[0m\n\u001b[0;32m     92\u001b[0m     tmp, _ \u001b[38;5;241m=\u001b[39m _fix_shape_1d(tmp, (n\u001b[38;5;241m/\u001b[39m\u001b[38;5;241m/\u001b[39m\u001b[38;5;241m2\u001b[39m) \u001b[38;5;241m+\u001b[39m \u001b[38;5;241m1\u001b[39m, axis)\n\u001b[0;32m     94\u001b[0m \u001b[38;5;66;03m# Note: overwrite_x is not utilized\u001b[39;00m\n\u001b[1;32m---> 95\u001b[0m \u001b[38;5;28;01mreturn\u001b[39;00m \u001b[43mpfft\u001b[49m\u001b[38;5;241;43m.\u001b[39;49m\u001b[43mc2r\u001b[49m\u001b[43m(\u001b[49m\u001b[43mtmp\u001b[49m\u001b[43m,\u001b[49m\u001b[43m \u001b[49m\u001b[43m(\u001b[49m\u001b[43maxis\u001b[49m\u001b[43m,\u001b[49m\u001b[43m)\u001b[49m\u001b[43m,\u001b[49m\u001b[43m \u001b[49m\u001b[43mn\u001b[49m\u001b[43m,\u001b[49m\u001b[43m \u001b[49m\u001b[43mforward\u001b[49m\u001b[43m,\u001b[49m\u001b[43m \u001b[49m\u001b[43mnorm\u001b[49m\u001b[43m,\u001b[49m\u001b[43m \u001b[49m\u001b[38;5;28;43;01mNone\u001b[39;49;00m\u001b[43m,\u001b[49m\u001b[43m \u001b[49m\u001b[43mworkers\u001b[49m\u001b[43m)\u001b[49m\n",
      "\u001b[1;31mMemoryError\u001b[0m: bad allocation"
     ]
    }
   ],
   "source": [
    "filtered_data= butter_lowpass_filter(channel1_data[0], 200, 20000)\n",
    "sig_length = len(filtered_data)\n",
    "rfs=1000\n",
    "num_samples = int(sig_length * rfs)\n",
    "\n",
    "filtered_data_resampled = signal.resample(filtered_data, num_samples)"
   ]
  },
  {
   "cell_type": "markdown",
   "metadata": {},
   "source": [
    "2. Resampling with Notch Filter (from cpl_pipeline)"
   ]
  },
  {
   "cell_type": "code",
   "execution_count": 38,
   "metadata": {},
   "outputs": [
    {
     "ename": "MemoryError",
     "evalue": "bad allocation",
     "output_type": "error",
     "traceback": [
      "\u001b[1;31m---------------------------------------------------------------------------\u001b[0m",
      "\u001b[1;31mMemoryError\u001b[0m                               Traceback (most recent call last)",
      "Cell \u001b[1;32mIn[38], line 5\u001b[0m\n\u001b[0;32m      2\u001b[0m \u001b[38;5;28;01mimport\u001b[39;00m \u001b[38;5;21;01mnumpy\u001b[39;00m \u001b[38;5;28;01mas\u001b[39;00m \u001b[38;5;21;01mnp\u001b[39;00m\n\u001b[0;32m      4\u001b[0m channel1_data \u001b[38;5;241m=\u001b[39m np\u001b[38;5;241m.\u001b[39marray(channel1_data)\n\u001b[1;32m----> 5\u001b[0m channe1_data_filter_resample\u001b[38;5;241m=\u001b[39m\u001b[43mmne\u001b[49m\u001b[38;5;241;43m.\u001b[39;49m\u001b[43mfilter\u001b[49m\u001b[38;5;241;43m.\u001b[39;49m\u001b[43mresample\u001b[49m\u001b[43m(\u001b[49m\u001b[43mchannel1_data\u001b[49m\u001b[43m,\u001b[49m\u001b[43m \u001b[49m\u001b[38;5;241;43m1000\u001b[39;49m\u001b[43m)\u001b[49m\n\u001b[0;32m      6\u001b[0m channe1_data_filter\u001b[38;5;241m=\u001b[39mmne\u001b[38;5;241m.\u001b[39mfilter\u001b[38;5;241m.\u001b[39mnotch_filter(channe1_data_filter_resample, \u001b[38;5;241m1000\u001b[39m, [\u001b[38;5;241m60\u001b[39m, \u001b[38;5;241m161\u001b[39m, \u001b[38;5;241m60\u001b[39m], filter_length\u001b[38;5;241m=\u001b[39m\u001b[38;5;124m'\u001b[39m\u001b[38;5;124mauto\u001b[39m\u001b[38;5;124m'\u001b[39m, phase\u001b[38;5;241m=\u001b[39m\u001b[38;5;124m'\u001b[39m\u001b[38;5;124mzero\u001b[39m\u001b[38;5;124m'\u001b[39m, fir_window\u001b[38;5;241m=\u001b[39m\u001b[38;5;124m'\u001b[39m\u001b[38;5;124mhamming\u001b[39m\u001b[38;5;124m'\u001b[39m, fir_design\u001b[38;5;241m=\u001b[39m\u001b[38;5;124m'\u001b[39m\u001b[38;5;124mfirwin\u001b[39m\u001b[38;5;124m'\u001b[39m, verbose\u001b[38;5;241m=\u001b[39m\u001b[38;5;28;01mNone\u001b[39;00m)\n\u001b[0;32m      7\u001b[0m \u001b[38;5;28;01mdef\u001b[39;00m \u001b[38;5;21mpreprocess_raw\u001b[39m(raw_signal, fmin\u001b[38;5;241m=\u001b[39m\u001b[38;5;241m1\u001b[39m, fmax\u001b[38;5;241m=\u001b[39m\u001b[38;5;241m100\u001b[39m):\n",
      "File \u001b[1;32m<decorator-gen-18>:12\u001b[0m, in \u001b[0;36mresample\u001b[1;34m(x, up, down, axis, window, n_jobs, pad, npad, method, verbose)\u001b[0m\n",
      "File \u001b[1;32mc:\\Users\\na488\\AppData\\Local\\anaconda3\\envs\\cpl\\lib\\site-packages\\mne\\filter.py:1894\u001b[0m, in \u001b[0;36mresample\u001b[1;34m(***failed resolving arguments***)\u001b[0m\n\u001b[0;32m   1892\u001b[0m kwargs \u001b[38;5;241m=\u001b[39m \u001b[38;5;28mdict\u001b[39m(pad\u001b[38;5;241m=\u001b[39mpad, window\u001b[38;5;241m=\u001b[39mwindow, n_jobs\u001b[38;5;241m=\u001b[39mn_jobs)\n\u001b[0;32m   1893\u001b[0m \u001b[38;5;28;01mif\u001b[39;00m method \u001b[38;5;241m==\u001b[39m \u001b[38;5;124m\"\u001b[39m\u001b[38;5;124mfft\u001b[39m\u001b[38;5;124m\"\u001b[39m:\n\u001b[1;32m-> 1894\u001b[0m     y \u001b[38;5;241m=\u001b[39m _resample_fft(x, npad\u001b[38;5;241m=\u001b[39mnpad, ratio\u001b[38;5;241m=\u001b[39mratio, final_len\u001b[38;5;241m=\u001b[39mfinal_len, \u001b[38;5;241m*\u001b[39m\u001b[38;5;241m*\u001b[39mkwargs)\n\u001b[0;32m   1895\u001b[0m \u001b[38;5;28;01melse\u001b[39;00m:\n\u001b[0;32m   1896\u001b[0m     up, down, kwargs[\u001b[38;5;124m\"\u001b[39m\u001b[38;5;124mwindow\u001b[39m\u001b[38;5;124m\"\u001b[39m] \u001b[38;5;241m=\u001b[39m _prep_polyphase(\n\u001b[0;32m   1897\u001b[0m         ratio, x\u001b[38;5;241m.\u001b[39mshape[\u001b[38;5;241m-\u001b[39m\u001b[38;5;241m1\u001b[39m], final_len, window\n\u001b[0;32m   1898\u001b[0m     )\n",
      "File \u001b[1;32mc:\\Users\\na488\\AppData\\Local\\anaconda3\\envs\\cpl\\lib\\site-packages\\mne\\filter.py:1990\u001b[0m, in \u001b[0;36m_resample_fft\u001b[1;34m(***failed resolving arguments***)\u001b[0m\n\u001b[0;32m   1988\u001b[0m     y \u001b[38;5;241m=\u001b[39m np\u001b[38;5;241m.\u001b[39mzeros((\u001b[38;5;28mlen\u001b[39m(x_flat), new_len \u001b[38;5;241m-\u001b[39m to_removes\u001b[38;5;241m.\u001b[39msum()), dtype\u001b[38;5;241m=\u001b[39mx_flat\u001b[38;5;241m.\u001b[39mdtype)\n\u001b[0;32m   1989\u001b[0m     \u001b[38;5;28;01mfor\u001b[39;00m xi, x_ \u001b[38;5;129;01min\u001b[39;00m \u001b[38;5;28menumerate\u001b[39m(x_flat):\n\u001b[1;32m-> 1990\u001b[0m         y[xi] \u001b[38;5;241m=\u001b[39m \u001b[43m_fft_resample\u001b[49m\u001b[43m(\u001b[49m\u001b[43mx_\u001b[49m\u001b[43m,\u001b[49m\u001b[43m \u001b[49m\u001b[43mnew_len\u001b[49m\u001b[43m,\u001b[49m\u001b[43m \u001b[49m\u001b[43mnpads\u001b[49m\u001b[43m,\u001b[49m\u001b[43m \u001b[49m\u001b[43mto_removes\u001b[49m\u001b[43m,\u001b[49m\u001b[43m \u001b[49m\u001b[43mcuda_dict\u001b[49m\u001b[43m,\u001b[49m\u001b[43m \u001b[49m\u001b[43mpad\u001b[49m\u001b[43m)\u001b[49m\n\u001b[0;32m   1991\u001b[0m \u001b[38;5;28;01melse\u001b[39;00m:\n\u001b[0;32m   1992\u001b[0m     y \u001b[38;5;241m=\u001b[39m parallel(\n\u001b[0;32m   1993\u001b[0m         p_fun(x_, new_len, npads, to_removes, cuda_dict, pad) \u001b[38;5;28;01mfor\u001b[39;00m x_ \u001b[38;5;129;01min\u001b[39;00m x_flat\n\u001b[0;32m   1994\u001b[0m     )\n",
      "File \u001b[1;32mc:\\Users\\na488\\AppData\\Local\\anaconda3\\envs\\cpl\\lib\\site-packages\\mne\\cuda.py:356\u001b[0m, in \u001b[0;36m_fft_resample\u001b[1;34m(x, new_len, npads, to_removes, cuda_dict, pad)\u001b[0m\n\u001b[0;32m    354\u001b[0m     x_fft[nyq : nyq \u001b[38;5;241m+\u001b[39m \u001b[38;5;241m1\u001b[39m] \u001b[38;5;241m*\u001b[39m\u001b[38;5;241m=\u001b[39m \u001b[38;5;241m2\u001b[39m \u001b[38;5;28;01mif\u001b[39;00m shorter \u001b[38;5;28;01melse\u001b[39;00m \u001b[38;5;241m0.5\u001b[39m\n\u001b[0;32m    355\u001b[0m x_fft \u001b[38;5;241m*\u001b[39m\u001b[38;5;241m=\u001b[39m cuda_dict[\u001b[38;5;124m\"\u001b[39m\u001b[38;5;124mW\u001b[39m\u001b[38;5;124m\"\u001b[39m]\n\u001b[1;32m--> 356\u001b[0m y \u001b[38;5;241m=\u001b[39m \u001b[43mcuda_dict\u001b[49m\u001b[43m[\u001b[49m\u001b[38;5;124;43m\"\u001b[39;49m\u001b[38;5;124;43mirfft\u001b[39;49m\u001b[38;5;124;43m\"\u001b[39;49m\u001b[43m]\u001b[49m\u001b[43m(\u001b[49m\u001b[43mx_fft\u001b[49m\u001b[43m,\u001b[49m\u001b[43m \u001b[49m\u001b[43mnew_len\u001b[49m\u001b[43m)\u001b[49m\n\u001b[0;32m    358\u001b[0m \u001b[38;5;66;03m# now let's trim it back to the correct size (if there was padding)\u001b[39;00m\n\u001b[0;32m    359\u001b[0m \u001b[38;5;28;01mif\u001b[39;00m (to_removes \u001b[38;5;241m>\u001b[39m \u001b[38;5;241m0\u001b[39m)\u001b[38;5;241m.\u001b[39many():\n",
      "File \u001b[1;32mc:\\Users\\na488\\AppData\\Local\\anaconda3\\envs\\cpl\\lib\\site-packages\\scipy\\fft\\_backend.py:28\u001b[0m, in \u001b[0;36m_ScipyBackend.__ua_function__\u001b[1;34m(method, args, kwargs)\u001b[0m\n\u001b[0;32m     26\u001b[0m \u001b[38;5;28;01mif\u001b[39;00m fn \u001b[38;5;129;01mis\u001b[39;00m \u001b[38;5;28;01mNone\u001b[39;00m:\n\u001b[0;32m     27\u001b[0m     \u001b[38;5;28;01mreturn\u001b[39;00m \u001b[38;5;28mNotImplemented\u001b[39m\n\u001b[1;32m---> 28\u001b[0m \u001b[38;5;28;01mreturn\u001b[39;00m fn(\u001b[38;5;241m*\u001b[39margs, \u001b[38;5;241m*\u001b[39m\u001b[38;5;241m*\u001b[39mkwargs)\n",
      "File \u001b[1;32mc:\\Users\\na488\\AppData\\Local\\anaconda3\\envs\\cpl\\lib\\site-packages\\scipy\\fft\\_basic_backend.py:78\u001b[0m, in \u001b[0;36mirfft\u001b[1;34m(x, n, axis, norm, overwrite_x, workers, plan)\u001b[0m\n\u001b[0;32m     76\u001b[0m \u001b[38;5;28;01mdef\u001b[39;00m \u001b[38;5;21mirfft\u001b[39m(x, n\u001b[38;5;241m=\u001b[39m\u001b[38;5;28;01mNone\u001b[39;00m, axis\u001b[38;5;241m=\u001b[39m\u001b[38;5;241m-\u001b[39m\u001b[38;5;241m1\u001b[39m, norm\u001b[38;5;241m=\u001b[39m\u001b[38;5;28;01mNone\u001b[39;00m,\n\u001b[0;32m     77\u001b[0m           overwrite_x\u001b[38;5;241m=\u001b[39m\u001b[38;5;28;01mFalse\u001b[39;00m, workers\u001b[38;5;241m=\u001b[39m\u001b[38;5;28;01mNone\u001b[39;00m, \u001b[38;5;241m*\u001b[39m, plan\u001b[38;5;241m=\u001b[39m\u001b[38;5;28;01mNone\u001b[39;00m):\n\u001b[1;32m---> 78\u001b[0m     \u001b[38;5;28;01mreturn\u001b[39;00m \u001b[43m_execute_1D\u001b[49m\u001b[43m(\u001b[49m\u001b[38;5;124;43m'\u001b[39;49m\u001b[38;5;124;43mirfft\u001b[39;49m\u001b[38;5;124;43m'\u001b[39;49m\u001b[43m,\u001b[49m\u001b[43m \u001b[49m\u001b[43m_pocketfft\u001b[49m\u001b[38;5;241;43m.\u001b[39;49m\u001b[43mirfft\u001b[49m\u001b[43m,\u001b[49m\u001b[43m \u001b[49m\u001b[43mx\u001b[49m\u001b[43m,\u001b[49m\u001b[43m \u001b[49m\u001b[43mn\u001b[49m\u001b[38;5;241;43m=\u001b[39;49m\u001b[43mn\u001b[49m\u001b[43m,\u001b[49m\u001b[43m \u001b[49m\u001b[43maxis\u001b[49m\u001b[38;5;241;43m=\u001b[39;49m\u001b[43maxis\u001b[49m\u001b[43m,\u001b[49m\u001b[43m \u001b[49m\u001b[43mnorm\u001b[49m\u001b[38;5;241;43m=\u001b[39;49m\u001b[43mnorm\u001b[49m\u001b[43m,\u001b[49m\n\u001b[0;32m     79\u001b[0m \u001b[43m                       \u001b[49m\u001b[43moverwrite_x\u001b[49m\u001b[38;5;241;43m=\u001b[39;49m\u001b[43moverwrite_x\u001b[49m\u001b[43m,\u001b[49m\u001b[43m \u001b[49m\u001b[43mworkers\u001b[49m\u001b[38;5;241;43m=\u001b[39;49m\u001b[43mworkers\u001b[49m\u001b[43m,\u001b[49m\u001b[43m \u001b[49m\u001b[43mplan\u001b[49m\u001b[38;5;241;43m=\u001b[39;49m\u001b[43mplan\u001b[49m\u001b[43m)\u001b[49m\n",
      "File \u001b[1;32mc:\\Users\\na488\\AppData\\Local\\anaconda3\\envs\\cpl\\lib\\site-packages\\scipy\\fft\\_basic_backend.py:28\u001b[0m, in \u001b[0;36m_execute_1D\u001b[1;34m(func_str, pocketfft_func, x, n, axis, norm, overwrite_x, workers, plan)\u001b[0m\n\u001b[0;32m     25\u001b[0m xp \u001b[38;5;241m=\u001b[39m array_namespace(x)\n\u001b[0;32m     27\u001b[0m \u001b[38;5;28;01mif\u001b[39;00m is_numpy(xp):\n\u001b[1;32m---> 28\u001b[0m     \u001b[38;5;28;01mreturn\u001b[39;00m \u001b[43mpocketfft_func\u001b[49m\u001b[43m(\u001b[49m\u001b[43mx\u001b[49m\u001b[43m,\u001b[49m\u001b[43m \u001b[49m\u001b[43mn\u001b[49m\u001b[38;5;241;43m=\u001b[39;49m\u001b[43mn\u001b[49m\u001b[43m,\u001b[49m\u001b[43m \u001b[49m\u001b[43maxis\u001b[49m\u001b[38;5;241;43m=\u001b[39;49m\u001b[43maxis\u001b[49m\u001b[43m,\u001b[49m\u001b[43m \u001b[49m\u001b[43mnorm\u001b[49m\u001b[38;5;241;43m=\u001b[39;49m\u001b[43mnorm\u001b[49m\u001b[43m,\u001b[49m\n\u001b[0;32m     29\u001b[0m \u001b[43m                          \u001b[49m\u001b[43moverwrite_x\u001b[49m\u001b[38;5;241;43m=\u001b[39;49m\u001b[43moverwrite_x\u001b[49m\u001b[43m,\u001b[49m\u001b[43m \u001b[49m\u001b[43mworkers\u001b[49m\u001b[38;5;241;43m=\u001b[39;49m\u001b[43mworkers\u001b[49m\u001b[43m,\u001b[49m\u001b[43m \u001b[49m\u001b[43mplan\u001b[49m\u001b[38;5;241;43m=\u001b[39;49m\u001b[43mplan\u001b[49m\u001b[43m)\u001b[49m\n\u001b[0;32m     31\u001b[0m norm \u001b[38;5;241m=\u001b[39m _validate_fft_args(workers, plan, norm)\n\u001b[0;32m     32\u001b[0m \u001b[38;5;28;01mif\u001b[39;00m \u001b[38;5;28mhasattr\u001b[39m(xp, \u001b[38;5;124m'\u001b[39m\u001b[38;5;124mfft\u001b[39m\u001b[38;5;124m'\u001b[39m):\n",
      "File \u001b[1;32mc:\\Users\\na488\\AppData\\Local\\anaconda3\\envs\\cpl\\lib\\site-packages\\scipy\\fft\\_pocketfft\\basic.py:95\u001b[0m, in \u001b[0;36mc2r\u001b[1;34m(forward, x, n, axis, norm, overwrite_x, workers, plan)\u001b[0m\n\u001b[0;32m     92\u001b[0m     tmp, _ \u001b[38;5;241m=\u001b[39m _fix_shape_1d(tmp, (n\u001b[38;5;241m/\u001b[39m\u001b[38;5;241m/\u001b[39m\u001b[38;5;241m2\u001b[39m) \u001b[38;5;241m+\u001b[39m \u001b[38;5;241m1\u001b[39m, axis)\n\u001b[0;32m     94\u001b[0m \u001b[38;5;66;03m# Note: overwrite_x is not utilized\u001b[39;00m\n\u001b[1;32m---> 95\u001b[0m \u001b[38;5;28;01mreturn\u001b[39;00m \u001b[43mpfft\u001b[49m\u001b[38;5;241;43m.\u001b[39;49m\u001b[43mc2r\u001b[49m\u001b[43m(\u001b[49m\u001b[43mtmp\u001b[49m\u001b[43m,\u001b[49m\u001b[43m \u001b[49m\u001b[43m(\u001b[49m\u001b[43maxis\u001b[49m\u001b[43m,\u001b[49m\u001b[43m)\u001b[49m\u001b[43m,\u001b[49m\u001b[43m \u001b[49m\u001b[43mn\u001b[49m\u001b[43m,\u001b[49m\u001b[43m \u001b[49m\u001b[43mforward\u001b[49m\u001b[43m,\u001b[49m\u001b[43m \u001b[49m\u001b[43mnorm\u001b[49m\u001b[43m,\u001b[49m\u001b[43m \u001b[49m\u001b[38;5;28;43;01mNone\u001b[39;49;00m\u001b[43m,\u001b[49m\u001b[43m \u001b[49m\u001b[43mworkers\u001b[49m\u001b[43m)\u001b[49m\n",
      "\u001b[1;31mMemoryError\u001b[0m: bad allocation"
     ]
    }
   ],
   "source": [
    "import mne\n",
    "import numpy as np\n",
    "\n",
    "channel1_data = np.array(channel1_data)\n",
    "channe1_data_filter_resample=mne.filter.resample(channel1_data, 1000)\n",
    "channe1_data_filter=mne.filter.notch_filter(channe1_data_filter_resample, 1000, [60, 161, 60], filter_length='auto', phase='zero', fir_window='hamming', fir_design='firwin', verbose=None)\n",
    "def preprocess_raw(raw_signal, fmin=1, fmax=100):\n",
    "    raw: mne.io.RawArray = raw_signal.copy()\n",
    "    raw.load_data()\n",
    "    raw.filter(fmin, fmax, fir_design=\"firwin\")\n",
    "    raw.resample(1000)\n",
    "    raw.notch_filter(np.arange(60, 161, 60), fir_design=\"firwin\")\n",
    "    #raw.set_eeg_reference(ref_channels=[\"Ref\"])\n",
    "    raw.drop_channels([\"Ref\"])\n",
    "    return raw\n"
   ]
  },
  {
   "cell_type": "code",
   "execution_count": 34,
   "metadata": {},
   "outputs": [
    {
     "ename": "AttributeError",
     "evalue": "'numpy.ndarray' object has no attribute 'load_data'",
     "output_type": "error",
     "traceback": [
      "\u001b[1;31m---------------------------------------------------------------------------\u001b[0m",
      "\u001b[1;31mAttributeError\u001b[0m                            Traceback (most recent call last)",
      "Cell \u001b[1;32mIn[34], line 1\u001b[0m\n\u001b[1;32m----> 1\u001b[0m ch1_processed\u001b[38;5;241m=\u001b[39m\u001b[43mpreprocess_raw\u001b[49m\u001b[43m(\u001b[49m\u001b[43mchannel1_data\u001b[49m\u001b[43m[\u001b[49m\u001b[38;5;241;43m0\u001b[39;49m\u001b[43m]\u001b[49m\u001b[43m)\u001b[49m\n",
      "Cell \u001b[1;32mIn[33], line 6\u001b[0m, in \u001b[0;36mpreprocess_raw\u001b[1;34m(raw_signal, fmin, fmax)\u001b[0m\n\u001b[0;32m      4\u001b[0m \u001b[38;5;28;01mdef\u001b[39;00m \u001b[38;5;21mpreprocess_raw\u001b[39m(raw_signal, fmin\u001b[38;5;241m=\u001b[39m\u001b[38;5;241m1\u001b[39m, fmax\u001b[38;5;241m=\u001b[39m\u001b[38;5;241m100\u001b[39m):\n\u001b[0;32m      5\u001b[0m     raw: mne\u001b[38;5;241m.\u001b[39mio\u001b[38;5;241m.\u001b[39mRawArray \u001b[38;5;241m=\u001b[39m raw_signal\u001b[38;5;241m.\u001b[39mcopy()\n\u001b[1;32m----> 6\u001b[0m     \u001b[43mraw\u001b[49m\u001b[38;5;241;43m.\u001b[39;49m\u001b[43mload_data\u001b[49m()\n\u001b[0;32m      7\u001b[0m     raw\u001b[38;5;241m.\u001b[39mfilter(fmin, fmax, fir_design\u001b[38;5;241m=\u001b[39m\u001b[38;5;124m\"\u001b[39m\u001b[38;5;124mfirwin\u001b[39m\u001b[38;5;124m\"\u001b[39m)\n\u001b[0;32m      8\u001b[0m     raw\u001b[38;5;241m.\u001b[39mresample(\u001b[38;5;241m1000\u001b[39m)\n",
      "\u001b[1;31mAttributeError\u001b[0m: 'numpy.ndarray' object has no attribute 'load_data'"
     ]
    }
   ],
   "source": [
    "ch1_processed=preprocess_raw(channel1_data[0])"
   ]
  }
 ],
 "metadata": {
  "kernelspec": {
   "display_name": "base",
   "language": "python",
   "name": "python3"
  },
  "language_info": {
   "codemirror_mode": {
    "name": "ipython",
    "version": 3
   },
   "file_extension": ".py",
   "mimetype": "text/x-python",
   "name": "python",
   "nbconvert_exporter": "python",
   "pygments_lexer": "ipython3",
   "version": "3.9.19"
  }
 },
 "nbformat": 4,
 "nbformat_minor": 2
}
